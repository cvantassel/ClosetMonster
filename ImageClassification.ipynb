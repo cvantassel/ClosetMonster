{
 "cells": [
  {
   "cell_type": "code",
   "execution_count": 37,
   "id": "humanitarian-resident",
   "metadata": {},
   "outputs": [],
   "source": [
    "import tensorflow as tf\n",
    "from tensorflow import keras\n",
    "import numpy as np\n",
    "import pandas as pd\n",
    "import matplotlib.pyplot as plt\n",
    "import os"
   ]
  },
  {
   "cell_type": "code",
   "execution_count": 35,
   "id": "romance-holder",
   "metadata": {},
   "outputs": [],
   "source": [
    "def walkThroughDir(absPath):\n",
    "    ''' Returns all files of a type from a directory '''\n",
    "    filesNames = []\n",
    "    path = absPath\n",
    "    for root,dirs,files in os.walk(absPath):\n",
    "        for file in files:\n",
    "            filesNames.append(root + '/' + file)\n",
    "    return filesNames"
   ]
  },
  {
   "cell_type": "code",
   "execution_count": 42,
   "id": "whole-keeping",
   "metadata": {},
   "outputs": [
    {
     "data": {
      "text/plain": [
       "numpy.ndarray"
      ]
     },
     "execution_count": 42,
     "metadata": {},
     "output_type": "execute_result"
    }
   ],
   "source": [
    "# TODO: Try fashion mnist\n",
    "fashion_mnist = keras.datasets.fashion_mnist\n",
    "(X_train_full, y_train_full), (X_test, y_test) = fashion_mnist.load_data()\n",
    "#class_names = [ “T-shirt/top” , “Trouser” , “Pullover” , “Dress” , “Coat” , “Sandal” , “Shirt” , “Sneaker” , “Bag” , “Ankle boot” ]\n",
    "#(X_train_full, y_train_full), (X_test, y_test) = fashion_mnist.load_data()"
   ]
  },
  {
   "cell_type": "code",
   "execution_count": null,
   "id": "working-monitoring",
   "metadata": {},
   "outputs": [],
   "source": [
    "# Parse dataset and store labels\n",
    "from tensorflow.keras.preprocessing import image\n",
    "imgs = walkThroughDir(\"/home/caskla/Downloads/Datasets/DeepFashion/\")\n",
    "\n",
    "X = np.array([])\n",
    "y = np.array([])\n",
    "for img in imgs:\n",
    "    label = img.split(\"/\")[-2].split(\"_\")[-1]\n",
    "    y = np.append(y, label)\n",
    "    X = np.append(X, image.load_img(img, target_size=(299, 299)))\n"
   ]
  },
  {
   "cell_type": "code",
   "execution_count": null,
   "id": "decimal-calculation",
   "metadata": {},
   "outputs": [],
   "source": [
    "X\n",
    "# import matplotlib.pyplot as plt\n",
    "# plt.imshow(img)\n",
    "\n",
    "# # PIL to numpy array\n",
    "# img_array = image.img_to_array(img)"
   ]
  },
  {
   "cell_type": "code",
   "execution_count": null,
   "id": "approximate-result",
   "metadata": {},
   "outputs": [],
   "source": [
    "\n",
    "X_train, X_test, y_train, y_test = train_test_split(X, y, test_size=0.33, random_state=42)\n",
    "\n",
    "class_names = [\"Anorak\",\"Blazer\",\"Blouse\",\"Bomber\",\"Button-Down\",\"Cardigan\",\"Flannel\",\"Halter\",\"Henley\",\"Hoodie\",\"Jacket\",\"Jersey\",\"Parka\",\"Peacoat\",\"Poncho\",\"Sweater\",\"Tank\",\"Tee\",\"Top\",\"Turtleneck\",\"Capris\",\"Chinos\",\"Culottes\",\"Cutoffs\",\"Gauchos\",\"Jeans\",\"Jeggings\",\"Jodhpurs\",\"Joggers\",\"Leggings\",\"Sarong\",\"Shorts\",\"Skirt\",\"Sweatpants\",\"Sweatshorts\",\"Trunks\",\"Caftan\",\"Cape\",\"Coat\",\"Coverup\",\"Dress\",\"Jumpsuit\",\"Kaftan\",\"Kimono\",\"Nightdress\",\"Onesie\",\"Robe\",\"Romper\",\"Shirtdress\",\"Sundress\"]\n",
    "\n",
    "# Normalize\n",
    "X_valid, X_train = X_train_full / 255., X_train_full / 255.\n",
    "X_test = X_test / 255."
   ]
  },
  {
   "cell_type": "code",
   "execution_count": null,
   "id": "checked-tunisia",
   "metadata": {},
   "outputs": [],
   "source": [
    "model = keras.models.Sequential([keras.layers.Conv2D(64, 7, activation=”relu”, padding= “same”, input_shape=[28, 28, 1]),\n",
    " keras.layers.MaxPooling2D(2),\n",
    " keras.layers.Conv2D(128, 3, activation=”relu”, padding=”same”),\n",
    " keras.layers.Conv2D(128, 3, activation=”relu”, padding=”same”),\n",
    " keras.layers.MaxPooling2D(2),\n",
    " keras.layers.Conv2D(256, 3, activation=”relu”, padding=”same”),\n",
    " keras.layers.Conv2D(256, 3, activation=”relu”, padding=”same”),\n",
    " keras.layers.MaxPooling2D(2),\n",
    " keras.layers.Flatten(),\n",
    " keras.layers.Dense(128, activation=”relu”),\n",
    " keras.layers.Dense(64, activation=”relu”),\n",
    " keras.layers.Dense(10, activation=”softmax”)\n",
    " ])"
   ]
  },
  {
   "cell_type": "code",
   "execution_count": null,
   "id": "temporal-defeat",
   "metadata": {},
   "outputs": [],
   "source": [
    "model.compile(loss = “sparse_categorical_crossentropy”,\n",
    "optimizer = “sgd”,\n",
    "metrics = [“accuracy”])"
   ]
  },
  {
   "cell_type": "code",
   "execution_count": null,
   "id": "beautiful-motion",
   "metadata": {},
   "outputs": [],
   "source": [
    "history = model.fit(X_train,\n",
    "                    y_train,\n",
    "                    epochs = 10,\n",
    "                    validation_data = (X_valid, y_valid))"
   ]
  },
  {
   "cell_type": "code",
   "execution_count": null,
   "id": "descending-philadelphia",
   "metadata": {},
   "outputs": [],
   "source": [
    "pd.DataFrame(history.history).plot(figsize = (16, 10))\n",
    "plt.grid(True)\n",
    "plt.gca().set_ylim(0, 1)\n",
    "plt.show()"
   ]
  },
  {
   "cell_type": "code",
   "execution_count": null,
   "id": "divided-minister",
   "metadata": {},
   "outputs": [],
   "source": [
    "model.evalute(X_test, y_test)"
   ]
  }
 ],
 "metadata": {
  "kernelspec": {
   "display_name": "Python 3",
   "language": "python",
   "name": "python3"
  },
  "language_info": {
   "codemirror_mode": {
    "name": "ipython",
    "version": 3
   },
   "file_extension": ".py",
   "mimetype": "text/x-python",
   "name": "python",
   "nbconvert_exporter": "python",
   "pygments_lexer": "ipython3",
   "version": "3.7.9"
  }
 },
 "nbformat": 4,
 "nbformat_minor": 5
}
